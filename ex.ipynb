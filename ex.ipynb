{
 "cells": [
  {
   "cell_type": "code",
   "execution_count": 1,
   "metadata": {},
   "outputs": [],
   "source": [
    "from tcn_block import TConv1d\n",
    "import torch"
   ]
  },
  {
   "cell_type": "code",
   "execution_count": 2,
   "metadata": {},
   "outputs": [
    {
     "name": "stdout",
     "output_type": "stream",
     "text": [
      "[[3, 0], [3, 1], [3, 2], [3, 3], [3, 0], [3, 1], [3, 0], [3, 0], [3, 0], [2, 0]]\n",
      "Created dilated  layer, K[3]\n",
      "l0k3 - Dil: 1\n",
      "Created dilated  layer, K[3]\n",
      "l1k3 - Dil: 3\n",
      "Created dilated  layer, K[3]\n",
      "l2k3 - Dil: 9\n",
      "Created dilated  layer, K[3]\n",
      "l3k3 - Dil: 27\n",
      "Created dilated  layer, K[3]\n",
      "l4k3 - Dil: 1\n",
      "Created dilated  layer, K[3]\n",
      "l5k3 - Dil: 3\n",
      "Created dilated  layer, K[3]\n",
      "l6k3 - Dil: 1\n",
      "Created dilated  layer, K[3]\n",
      "l7k3 - Dil: 1\n",
      "Created dilated  layer, K[3]\n",
      "l8k3 - Dil: 1\n",
      "Created dilated  layer, K[2]\n",
      "l9k3 - Dil: 1\n"
     ]
    }
   ],
   "source": [
    "ch = 8\n",
    "in_size = 100\n",
    "out_size = 5\n",
    "kernel = 3\n",
    "\n",
    "tconv = TConv1d(ch, kernel, in_size, out_size, debug=True)"
   ]
  },
  {
   "cell_type": "code",
   "execution_count": 3,
   "metadata": {},
   "outputs": [
    {
     "name": "stdout",
     "output_type": "stream",
     "text": [
      "torch.Size([1, 8, 100])\n"
     ]
    }
   ],
   "source": [
    "sample = torch.rand(1, ch, in_size)\n",
    "\n",
    "print(sample.shape)\n",
    "# print(sample)"
   ]
  },
  {
   "cell_type": "code",
   "execution_count": 4,
   "metadata": {},
   "outputs": [
    {
     "name": "stdout",
     "output_type": "stream",
     "text": [
      "torch.Size([1, 8, 5])\n",
      "tensor([[[-0.9254, -0.5473,  0.2768, -0.6375,  1.8333],\n",
      "         [ 1.2143,  0.8824, -1.0595,  0.2184, -1.2556],\n",
      "         [ 1.6443, -1.1260, -0.8412, -0.2049,  0.5277],\n",
      "         [-0.1345,  1.3985, -0.4180,  0.6935, -1.5396],\n",
      "         [ 1.5216, -0.0329,  0.5461, -0.6205, -1.4143],\n",
      "         [-0.7779,  1.4376, -0.4816, -1.1089,  0.9308],\n",
      "         [ 1.0197, -0.4741,  0.8875,  0.2634, -1.6965],\n",
      "         [-0.0530, -1.5862, -0.2743,  0.4207,  1.4929]]],\n",
      "       grad_fn=<NativeBatchNormBackward>)\n"
     ]
    }
   ],
   "source": [
    "res = tconv(sample)\n",
    "\n",
    "print(res.shape)\n",
    "print(res)"
   ]
  },
  {
   "cell_type": "markdown",
   "metadata": {},
   "source": []
  },
  {
   "cell_type": "markdown",
   "metadata": {},
   "source": []
  }
 ],
 "metadata": {
  "kernelspec": {
   "display_name": "Python 3.7.9 ('pad')",
   "language": "python",
   "name": "python3"
  },
  "language_info": {
   "codemirror_mode": {
    "name": "ipython",
    "version": 3
   },
   "file_extension": ".py",
   "mimetype": "text/x-python",
   "name": "python",
   "nbconvert_exporter": "python",
   "pygments_lexer": "ipython3",
   "version": "3.7.9"
  },
  "orig_nbformat": 4,
  "vscode": {
   "interpreter": {
    "hash": "5e28bccd561e4d4fe208f8faad1f30ec4761c057f84488dc5aee9134c9b77383"
   }
  }
 },
 "nbformat": 4,
 "nbformat_minor": 2
}
