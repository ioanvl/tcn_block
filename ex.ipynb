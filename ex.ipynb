{
 "cells": [
  {
   "cell_type": "code",
   "execution_count": 1,
   "metadata": {},
   "outputs": [],
   "source": [
    "from tcn_block import tConv1d\n",
    "import torch"
   ]
  },
  {
   "cell_type": "code",
   "execution_count": 2,
   "metadata": {},
   "outputs": [
    {
     "name": "stdout",
     "output_type": "stream",
     "text": [
      "[[3, 0], [3, 1], [3, 2], [3, 3], [3, 0], [3, 1], [3, 0], [3, 0], [3, 0], [2, 0]]\n",
      "Created dilated  layer, K[3]\n",
      "l0k3 - Dil: 1\n",
      "Created dilated  layer, K[3]\n",
      "l1k3 - Dil: 3\n",
      "Created dilated  layer, K[3]\n",
      "l2k3 - Dil: 9\n",
      "Created dilated  layer, K[3]\n",
      "l3k3 - Dil: 27\n",
      "Created dilated  layer, K[3]\n",
      "l4k3 - Dil: 1\n",
      "Created dilated  layer, K[3]\n",
      "l5k3 - Dil: 3\n",
      "Created dilated  layer, K[3]\n",
      "l6k3 - Dil: 1\n",
      "Created dilated  layer, K[3]\n",
      "l7k3 - Dil: 1\n",
      "Created dilated  layer, K[3]\n",
      "l8k3 - Dil: 1\n",
      "Created dilated  layer, K[2]\n",
      "l9k3 - Dil: 1\n"
     ]
    }
   ],
   "source": [
    "ch = 8\n",
    "in_size = 100\n",
    "out_size = 5\n",
    "kernel = 3\n",
    "\n",
    "tconv = tConv1d(ch, kernel, in_size, out_size, debug=True)"
   ]
  },
  {
   "cell_type": "code",
   "execution_count": 3,
   "metadata": {},
   "outputs": [
    {
     "name": "stdout",
     "output_type": "stream",
     "text": [
      "torch.Size([1, 8, 100])\n"
     ]
    }
   ],
   "source": [
    "sample = torch.rand(1, ch, in_size)\n",
    "\n",
    "print(sample.shape)\n",
    "# print(sample)"
   ]
  },
  {
   "cell_type": "code",
   "execution_count": 4,
   "metadata": {},
   "outputs": [
    {
     "name": "stdout",
     "output_type": "stream",
     "text": [
      "torch.Size([1, 8, 5])\n",
      "tensor([[[-1.4638e+00, -5.9247e-01, -4.6799e-02,  1.4340e+00,  6.6900e-01],\n",
      "         [-6.9270e-01, -1.1913e-01,  5.7660e-03, -1.0427e+00,  1.8488e+00],\n",
      "         [-1.8985e+00,  2.7463e-01,  8.4304e-01,  7.8062e-01,  2.1722e-04],\n",
      "         [-3.4493e-01,  3.4215e-01, -1.1777e+00,  1.7478e+00, -5.6731e-01],\n",
      "         [ 1.6151e+00,  1.6837e-03,  4.3436e-01, -1.2480e+00, -8.0316e-01],\n",
      "         [ 1.1164e+00,  1.4090e-01,  1.8715e-01, -1.8745e+00,  4.3001e-01],\n",
      "         [ 3.0202e-02,  1.9683e-01, -7.0780e-01, -1.2331e+00,  1.7139e+00],\n",
      "         [-1.1617e+00,  1.2639e+00, -6.7712e-01,  1.1328e+00, -5.5791e-01]]],\n",
      "       grad_fn=<NativeBatchNormBackward>)\n"
     ]
    }
   ],
   "source": [
    "res = tconv(sample)\n",
    "\n",
    "print(res.shape)\n",
    "print(res)"
   ]
  },
  {
   "cell_type": "markdown",
   "metadata": {},
   "source": []
  },
  {
   "cell_type": "markdown",
   "metadata": {},
   "source": []
  }
 ],
 "metadata": {
  "kernelspec": {
   "display_name": "Python 3.7.9 ('pad')",
   "language": "python",
   "name": "python3"
  },
  "language_info": {
   "codemirror_mode": {
    "name": "ipython",
    "version": 3
   },
   "file_extension": ".py",
   "mimetype": "text/x-python",
   "name": "python",
   "nbconvert_exporter": "python",
   "pygments_lexer": "ipython3",
   "version": "3.7.9"
  },
  "orig_nbformat": 4,
  "vscode": {
   "interpreter": {
    "hash": "5e28bccd561e4d4fe208f8faad1f30ec4761c057f84488dc5aee9134c9b77383"
   }
  }
 },
 "nbformat": 4,
 "nbformat_minor": 2
}
