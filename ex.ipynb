{
 "cells": [
  {
   "cell_type": "code",
   "execution_count": 1,
   "metadata": {},
   "outputs": [],
   "source": [
    "from t_conv import t_conv\n",
    "import torch"
   ]
  },
  {
   "cell_type": "code",
   "execution_count": 7,
   "metadata": {},
   "outputs": [
    {
     "name": "stdout",
     "output_type": "stream",
     "text": [
      "Created dilated  layer, K[3]\n",
      "l0k3 - Dil: 1\n",
      "Created dilated  layer, K[3]\n",
      "l1k3 - Dil: 3\n",
      "Created dilated  layer, K[3]\n",
      "l2k3 - Dil: 9\n",
      "Created dilated  layer, K[3]\n",
      "l3k3 - Dil: 27\n",
      "Created dilated  layer, K[3]\n",
      "l4k3 - Dil: 1\n",
      "Created dilated  layer, K[3]\n",
      "l5k3 - Dil: 3\n",
      "Created dilated  layer, K[3]\n",
      "l6k3 - Dil: 1\n",
      "Created dilated  layer, K[3]\n",
      "l7k3 - Dil: 1\n",
      "Created dilated  layer, K[3]\n",
      "l8k3 - Dil: 1\n",
      "Created dilated  layer, K[2]\n",
      "l9k3 - Dil: 1\n"
     ]
    }
   ],
   "source": [
    "ch = 8\n",
    "in_size = 100\n",
    "out_size = 5\n",
    "kernel = 3\n",
    "\n",
    "tconv = t_conv(ch, kernel, in_size, out_size, debug=True)"
   ]
  },
  {
   "cell_type": "code",
   "execution_count": 8,
   "metadata": {},
   "outputs": [
    {
     "name": "stdout",
     "output_type": "stream",
     "text": [
      "torch.Size([1, 8, 100])\n"
     ]
    }
   ],
   "source": [
    "sample = torch.rand(1, ch, in_size)\n",
    "\n",
    "print(sample.shape)\n",
    "# print(sample)"
   ]
  },
  {
   "cell_type": "code",
   "execution_count": 9,
   "metadata": {},
   "outputs": [
    {
     "name": "stdout",
     "output_type": "stream",
     "text": [
      "torch.Size([1, 8, 5])\n",
      "tensor([[[ 0.0798,  0.4174, -0.2573,  1.4170, -1.6568],\n",
      "         [ 1.4092, -1.2741, -0.1595, -0.8139,  0.8383],\n",
      "         [ 0.5884, -0.6002, -0.2566, -1.3135,  1.5819],\n",
      "         [-0.7724,  1.8164, -0.9281, -0.4014,  0.2855],\n",
      "         [-0.6790, -0.8420,  0.8486,  1.5370, -0.8646],\n",
      "         [-0.6569,  1.8016, -0.6240,  0.3712, -0.8920],\n",
      "         [-0.9810,  0.9698, -0.8261,  1.4345, -0.5972],\n",
      "         [-1.0133, -1.3800,  0.7195,  0.5631,  1.1107]]],\n",
      "       grad_fn=<NativeBatchNormBackward>)\n"
     ]
    }
   ],
   "source": [
    "res = tconv(sample)\n",
    "\n",
    "print(res.shape)\n",
    "print(res)"
   ]
  },
  {
   "cell_type": "code",
   "execution_count": null,
   "metadata": {},
   "outputs": [],
   "source": []
  },
  {
   "cell_type": "code",
   "execution_count": null,
   "metadata": {},
   "outputs": [],
   "source": []
  }
 ],
 "metadata": {
  "kernelspec": {
   "display_name": "Python 3.6.12 ('pad')",
   "language": "python",
   "name": "python3"
  },
  "language_info": {
   "codemirror_mode": {
    "name": "ipython",
    "version": 3
   },
   "file_extension": ".py",
   "mimetype": "text/x-python",
   "name": "python",
   "nbconvert_exporter": "python",
   "pygments_lexer": "ipython3",
   "version": "3.6.12"
  },
  "orig_nbformat": 4,
  "vscode": {
   "interpreter": {
    "hash": "39058611850bcf46cb85cb30affd522185d9913a8d0ff4324a2b80911274b58a"
   }
  }
 },
 "nbformat": 4,
 "nbformat_minor": 2
}
