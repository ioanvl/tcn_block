{
 "cells": [
  {
   "cell_type": "code",
   "execution_count": 1,
   "metadata": {},
   "outputs": [],
   "source": [
    "from tcn_block import tConv1d\n",
    "import torch"
   ]
  },
  {
   "cell_type": "code",
   "execution_count": 2,
   "metadata": {},
   "outputs": [
    {
     "name": "stdout",
     "output_type": "stream",
     "text": [
      "[[3, 0], [3, 1], [3, 2], [3, 3], [3, 0], [3, 1], [3, 0], [3, 0], [3, 0], [2, 0]]\n",
      "Created dilated  layer, K[3]\n",
      "l0k3 - Dil: 1\n",
      "Created dilated  layer, K[3]\n",
      "l1k3 - Dil: 3\n",
      "Created dilated  layer, K[3]\n",
      "l2k3 - Dil: 9\n",
      "Created dilated  layer, K[3]\n",
      "l3k3 - Dil: 27\n",
      "Created dilated  layer, K[3]\n",
      "l4k3 - Dil: 1\n",
      "Created dilated  layer, K[3]\n",
      "l5k3 - Dil: 3\n",
      "Created dilated  layer, K[3]\n",
      "l6k3 - Dil: 1\n",
      "Created dilated  layer, K[3]\n",
      "l7k3 - Dil: 1\n",
      "Created dilated  layer, K[3]\n",
      "l8k3 - Dil: 1\n",
      "Created dilated  layer, K[2]\n",
      "l9k3 - Dil: 1\n"
     ]
    }
   ],
   "source": [
    "ch = 8\n",
    "in_size = 100\n",
    "out_size = 5\n",
    "kernel = 3\n",
    "\n",
    "tconv = tConv1d(ch, kernel, in_size, out_size, debug=True)"
   ]
  },
  {
   "cell_type": "code",
   "execution_count": 3,
   "metadata": {},
   "outputs": [
    {
     "name": "stdout",
     "output_type": "stream",
     "text": [
      "torch.Size([1, 8, 100])\n"
     ]
    }
   ],
   "source": [
    "sample = torch.rand(1, ch, in_size)\n",
    "\n",
    "print(sample.shape)\n",
    "# print(sample)"
   ]
  },
  {
   "cell_type": "code",
   "execution_count": 4,
   "metadata": {},
   "outputs": [
    {
     "name": "stdout",
     "output_type": "stream",
     "text": [
      "torch.Size([1, 8, 5])\n",
      "tensor([[[ 0.6028, -0.6001, -1.2056, -0.4231,  1.6260],\n",
      "         [ 0.9266,  0.9886, -0.6971, -1.5930,  0.3748],\n",
      "         [ 0.6771,  0.7826, -1.0230, -1.3988,  0.9621],\n",
      "         [ 0.9581, -1.1099, -0.6734,  1.4265, -0.6013],\n",
      "         [ 0.7951,  0.1866, -1.5083, -0.7163,  1.2428],\n",
      "         [-0.6259,  1.5839, -0.7260, -0.9950,  0.7630],\n",
      "         [ 0.1238,  1.5631, -1.1854,  0.4601, -0.9616],\n",
      "         [-0.3160, -0.9318,  1.9460, -0.3699, -0.3283]]],\n",
      "       grad_fn=<NativeBatchNormBackward>)\n"
     ]
    }
   ],
   "source": [
    "res = tconv(sample)\n",
    "\n",
    "print(res.shape)\n",
    "print(res)"
   ]
  },
  {
   "cell_type": "code",
   "execution_count": null,
   "metadata": {},
   "outputs": [],
   "source": []
  },
  {
   "cell_type": "code",
   "execution_count": 5,
   "metadata": {},
   "outputs": [
    {
     "ename": "ValueError",
     "evalue": "With \"trim\" consumption the input size must be at least equal to [output_size + kernel_size - 1] or larger",
     "output_type": "error",
     "traceback": [
      "\u001b[0;31m---------------------------------------------------------------------------\u001b[0m",
      "\u001b[0;31mValueError\u001b[0m                                Traceback (most recent call last)",
      "\u001b[0;32m<ipython-input-5-c8f6fcc6ace3>\u001b[0m in \u001b[0;36m<module>\u001b[0;34m\u001b[0m\n\u001b[0;32m----> 1\u001b[0;31m \u001b[0mtc\u001b[0m \u001b[0;34m=\u001b[0m \u001b[0mtConv1d\u001b[0m\u001b[0;34m(\u001b[0m\u001b[0mconsumption\u001b[0m\u001b[0;34m=\u001b[0m\u001b[0;34m\"trim\"\u001b[0m\u001b[0;34m,\u001b[0m \u001b[0mnormalization\u001b[0m\u001b[0;34m=\u001b[0m \u001b[0;32mNone\u001b[0m\u001b[0;34m,\u001b[0m \u001b[0mresidual\u001b[0m\u001b[0;34m=\u001b[0m \u001b[0;32mTrue\u001b[0m\u001b[0;34m,\u001b[0m \u001b[0mresidual_conv\u001b[0m\u001b[0;34m=\u001b[0m \u001b[0;32mTrue\u001b[0m\u001b[0;34m,\u001b[0m \u001b[0mskip_connections\u001b[0m\u001b[0;34m=\u001b[0m \u001b[0;32mTrue\u001b[0m\u001b[0;34m,\u001b[0m \u001b[0mskip_conv\u001b[0m\u001b[0;34m=\u001b[0m \u001b[0;32mTrue\u001b[0m\u001b[0;34m,\u001b[0m \u001b[0mkernel_size\u001b[0m\u001b[0;34m=\u001b[0m \u001b[0;36m10\u001b[0m\u001b[0;34m,\u001b[0m \u001b[0min_size\u001b[0m\u001b[0;34m=\u001b[0m \u001b[0;36m10\u001b[0m\u001b[0;34m,\u001b[0m \u001b[0moutput_size\u001b[0m\u001b[0;34m=\u001b[0m\u001b[0;36m5\u001b[0m\u001b[0;34m,\u001b[0m \u001b[0min_channels\u001b[0m\u001b[0;34m=\u001b[0m\u001b[0;36m2\u001b[0m\u001b[0;34m,\u001b[0m \u001b[0mdebug\u001b[0m\u001b[0;34m=\u001b[0m \u001b[0;32mTrue\u001b[0m\u001b[0;34m)\u001b[0m\u001b[0;34m\u001b[0m\u001b[0;34m\u001b[0m\u001b[0m\n\u001b[0m",
      "\u001b[0;32m~/Documents/dev/tcn_block/tcn_block/t_conv.py\u001b[0m in \u001b[0;36m__init__\u001b[0;34m(self, in_channels, kernel_size, in_size, output_size, consumption, normalization, output, residual, residual_conv, skip_connections, skip_conv, debug)\u001b[0m\n\u001b[1;32m     23\u001b[0m             \u001b[0;32mif\u001b[0m \u001b[0;34m(\u001b[0m\u001b[0min_size\u001b[0m \u001b[0;34m-\u001b[0m \u001b[0;34m(\u001b[0m\u001b[0mkernel_size\u001b[0m \u001b[0;34m-\u001b[0m \u001b[0;36m1\u001b[0m\u001b[0;34m)\u001b[0m\u001b[0;34m)\u001b[0m \u001b[0;34m<\u001b[0m \u001b[0moutput_size\u001b[0m\u001b[0;34m:\u001b[0m\u001b[0;34m\u001b[0m\u001b[0;34m\u001b[0m\u001b[0m\n\u001b[1;32m     24\u001b[0m                 raise ValueError(\n\u001b[0;32m---> 25\u001b[0;31m                     F\"With \\\"trim\\\" consumption the input size must be at least equal to [output_size + kernel_size - 1] or larger\")\n\u001b[0m\u001b[1;32m     26\u001b[0m         \u001b[0;32mif\u001b[0m \u001b[0mconsumption\u001b[0m \u001b[0;32mnot\u001b[0m \u001b[0;32min\u001b[0m \u001b[0;34m[\u001b[0m\u001b[0;34m'trim'\u001b[0m\u001b[0;34m,\u001b[0m \u001b[0;34m'padded'\u001b[0m\u001b[0;34m,\u001b[0m \u001b[0;34m'full'\u001b[0m\u001b[0;34m]\u001b[0m\u001b[0;34m:\u001b[0m\u001b[0;34m\u001b[0m\u001b[0;34m\u001b[0m\u001b[0m\n\u001b[1;32m     27\u001b[0m             \u001b[0mconsumption\u001b[0m \u001b[0;34m=\u001b[0m \u001b[0;34m'full'\u001b[0m\u001b[0;34m\u001b[0m\u001b[0;34m\u001b[0m\u001b[0m\n",
      "\u001b[0;31mValueError\u001b[0m: With \"trim\" consumption the input size must be at least equal to [output_size + kernel_size - 1] or larger"
     ]
    }
   ],
   "source": [
    "tc = tConv1d(consumption=\"trim\", normalization= None, residual= True, residual_conv= True, skip_connections= True, skip_conv= True, kernel_size= 10, in_size= 10, output_size=5, in_channels=2, debug= True)\n"
   ]
  },
  {
   "cell_type": "code",
   "execution_count": null,
   "metadata": {},
   "outputs": [
    {
     "name": "stdout",
     "output_type": "stream",
     "text": [
      "[[3, 0], [3, 0], [2, 0]]\n",
      "Created dilated R layer, K[3]\n",
      "l0k3 - Dil: 1\n",
      "Created dilated R layer, K[3]\n",
      "l1k3 - Dil: 1\n",
      "Created dilated R layer, K[2]\n",
      "l2k3 - Dil: 1\n"
     ]
    }
   ],
   "source": [
    "tc2 = tConv1d(consumption=\"full\", normalization= None, residual= True, residual_conv= True, kernel_size= 3, in_size= 10, output_size=5, in_channels=2, debug= True)"
   ]
  },
  {
   "cell_type": "code",
   "execution_count": null,
   "metadata": {},
   "outputs": [],
   "source": [
    "s = torch.rand(1, 2, 10)"
   ]
  },
  {
   "cell_type": "code",
   "execution_count": null,
   "metadata": {},
   "outputs": [
    {
     "name": "stdout",
     "output_type": "stream",
     "text": [
      "<generator object Module.named_parameters at 0x7fa9ad652650>\n"
     ]
    }
   ],
   "source": [
    "for i in tc.named_parameters():\n",
    "    print(i)\n",
    "print(tc.named_parameters())"
   ]
  },
  {
   "cell_type": "code",
   "execution_count": null,
   "metadata": {},
   "outputs": [],
   "source": [
    "x = tc2(s)"
   ]
  },
  {
   "cell_type": "code",
   "execution_count": null,
   "metadata": {},
   "outputs": [
    {
     "name": "stdout",
     "output_type": "stream",
     "text": [
      "torch.Size([1, 2, 5])\n"
     ]
    }
   ],
   "source": [
    "print(x.size())"
   ]
  },
  {
   "cell_type": "markdown",
   "metadata": {},
   "source": []
  },
  {
   "cell_type": "markdown",
   "metadata": {},
   "source": []
  }
 ],
 "metadata": {
  "kernelspec": {
   "display_name": "Python 3.7.9 ('pad')",
   "language": "python",
   "name": "python3"
  },
  "language_info": {
   "codemirror_mode": {
    "name": "ipython",
    "version": 3
   },
   "file_extension": ".py",
   "mimetype": "text/x-python",
   "name": "python",
   "nbconvert_exporter": "python",
   "pygments_lexer": "ipython3",
   "version": "3.7.9"
  },
  "orig_nbformat": 4,
  "vscode": {
   "interpreter": {
    "hash": "5e28bccd561e4d4fe208f8faad1f30ec4761c057f84488dc5aee9134c9b77383"
   }
  }
 },
 "nbformat": 4,
 "nbformat_minor": 2
}
